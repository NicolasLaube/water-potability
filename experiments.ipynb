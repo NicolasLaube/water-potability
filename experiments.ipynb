{
 "cells": [
  {
   "cell_type": "markdown",
   "metadata": {},
   "source": [
    "# Experiments 1\n",
    "\n",
    "In this notebook, we'll split test and train dataset and only consider train set for modeling, outliers deletion, nan deletion etc. \n",
    "This is the conventionnal \"clean\" approach."
   ]
  },
  {
   "cell_type": "code",
   "execution_count": 67,
   "metadata": {},
   "outputs": [
    {
     "name": "stdout",
     "output_type": "stream",
     "text": [
      "Collecting lightgbm\n",
      "  Downloading lightgbm-3.3.1-py3-none-win_amd64.whl (1.0 MB)\n",
      "Requirement already satisfied: scikit-learn!=0.22.0 in c:\\users\\nicol\\appdata\\roaming\\python\\python37\\site-packages (from lightgbm) (1.0.1)\n",
      "Requirement already satisfied: wheel in c:\\users\\nicol\\anaconda3\\envs\\mlproject\\lib\\site-packages (from lightgbm) (0.37.0)\n",
      "Requirement already satisfied: numpy in c:\\users\\nicol\\anaconda3\\envs\\mlproject\\lib\\site-packages (from lightgbm) (1.21.3)\n",
      "Requirement already satisfied: scipy in c:\\users\\nicol\\anaconda3\\envs\\mlproject\\lib\\site-packages (from lightgbm) (1.7.1)\n",
      "Requirement already satisfied: threadpoolctl>=2.0.0 in c:\\users\\nicol\\appdata\\roaming\\python\\python37\\site-packages (from scikit-learn!=0.22.0->lightgbm) (2.2.0)\n",
      "Requirement already satisfied: joblib>=0.11 in c:\\users\\nicol\\appdata\\roaming\\python\\python37\\site-packages (from scikit-learn!=0.22.0->lightgbm) (1.0.1)\n",
      "Installing collected packages: lightgbm\n",
      "Successfully installed lightgbm-3.3.1\n"
     ]
    }
   ],
   "source": [
    "!pip install lightgbm"
   ]
  },
  {
   "cell_type": "code",
   "execution_count": 85,
   "metadata": {},
   "outputs": [],
   "source": [
    "from typing import List, Dict\n",
    "from configparser import ConfigParser\n",
    "import pandas as pd\n",
    "import numpy as np\n",
    "import seaborn as sns\n",
    "import matplotlib.pyplot as plt\n",
    "from sklearn.experimental import enable_iterative_imputer  # noqa\n",
    "from sklearn.impute import SimpleImputer, KNNImputer, IterativeImputer\n",
    "from sklearn.preprocessing import MinMaxScaler, StandardScaler, KBinsDiscretizer\n",
    "from sklearn.svm import SVC\n",
    "from sklearn.model_selection import GridSearchCV, RandomizedSearchCV, train_test_split\n",
    "from sklearn.metrics import f1_score, make_scorer, precision_score, recall_score\n",
    "from sklearn.tree import DecisionTreeClassifier\n",
    "from sklearn.linear_model import LogisticRegression\n",
    "from sklearn.ensemble import RandomForestClassifier, AdaBoostClassifier, GradientBoostingClassifier\n",
    "from sklearn.dummy import DummyClassifier\n",
    "from sklearn.neighbors import KNeighborsClassifier\n",
    "from sklearn.naive_bayes import GaussianNB\n",
    "from sklearn.neural_network import MLPClassifier\n",
    "from imblearn.over_sampling import SMOTE\n",
    "from src.load_dataset import Loader\n",
    "from sklearn.metrics import confusion_matrix, ConfusionMatrixDisplay\n",
    "from lightgbm import LGBMClassifier\n",
    "from imblearn.pipeline import Pipeline \n"
   ]
  },
  {
   "cell_type": "markdown",
   "metadata": {},
   "source": [
    "## Preparing data set\n",
    "\n",
    "So that our methods work well, we have to make the assumption that the distributions of train and test set are equal. We shuffle the dataset for that."
   ]
  },
  {
   "cell_type": "code",
   "execution_count": 2,
   "metadata": {},
   "outputs": [],
   "source": [
    "loader = Loader()\n",
    "\n",
    "X_train, y_train = loader.get_train()\n",
    "X_test, y_test = loader.get_test()\n",
    "\n",
    "X_train_without_nan, y_train_without_nan = loader.get_train(keep_nan=False)\n",
    "X_test_without_nan, y_test_without_nan = loader.get_test(keep_nan=False)"
   ]
  },
  {
   "cell_type": "code",
   "execution_count": 80,
   "metadata": {},
   "outputs": [],
   "source": [
    "# Scoring function\n",
    "f1 = make_scorer(\n",
    "    f1_score,\n",
    "    greater_is_better=True,\n",
    "\n",
    ")\n",
    "\n",
    "# fit and test\n",
    "def fit_and_test_grid(base_pipe: Pipeline, param_grid: List[Dict[str, list]], keep_nan: bool = True, verbose: int = 0):\n",
    "    if not keep_nan:\n",
    "        # without nan values\n",
    "        X_train_, y_train_ = X_train_without_nan, y_train_without_nan\n",
    "    else:\n",
    "        # with nan values\n",
    "        X_train_, y_train_ = X_train, y_train\n",
    "\n",
    "    grid = GridSearchCV(base_pipe, param_grid, cv=5, verbose=verbose, scoring=f1)\n",
    "\n",
    "    grid.fit(X_train_, y_train_)\n",
    "    best_estimator = grid.best_estimator_\n",
    "    y_pred = best_estimator.predict(X_test)\n",
    "\n",
    "    print_scores(y_pred)\n",
    "\n",
    "    print(\"Best parameters: \", grid.best_estimator_)\n",
    "\n",
    "    show_confusion_matrix(best_estimator, y_pred)\n",
    "\n",
    "    if (len(grid.param_grid) > 1):\n",
    "        plot_grid_search(grid)\n",
    "\n",
    "    return grid\n",
    "\n",
    "def plot_grid_search(grid):\n",
    "\n",
    "    ## Results from grid search\n",
    "    results = grid.cv_results_\n",
    "    params = grid.param_grid\n",
    "    assert len(params) > 1\n",
    "\n",
    "    means_test = results['mean_test_score']\n",
    "    stds_test = results['std_test_score']\n",
    "\n",
    "    masks = []\n",
    "    masks_names = []\n",
    "\n",
    "    for p_k, p_v in grid.best_params_.items():\n",
    "        # None parameters aren't working\n",
    "        if p_v is not None:\n",
    "            masks.append(list(results['param_'+ p_k].data == p_v))\n",
    "            masks_names.append(p_k)\n",
    "        else:\n",
    "            print(p_k)\n",
    "            masks.append(list(results['param_'+ p_k].data == p_v))\n",
    "            masks_names.append(p_k)\n",
    "\n",
    "    ## Ploting results\n",
    "    fig, ax = plt.subplots(1,len(params),sharex='none', sharey='all',figsize=(20,5))\n",
    "    fig.suptitle('Score per parameter')\n",
    "    fig.text(0.04, 0.5, 'MEAN SCORE', va='center', rotation='vertical')\n",
    "    pram_preformace_in_best = {}\n",
    "    for i, p in enumerate(masks_names):\n",
    "        m = np.stack(masks[:i] + masks[i+1:])\n",
    "        pram_preformace_in_best\n",
    "        best_parms_mask = m.all(axis=0)\n",
    "        best_index = np.where(best_parms_mask)[0]\n",
    "        x = np.array(params[p])\n",
    "        y_1 = np.array(means_test[best_index])\n",
    "        e_1 = np.array(stds_test[best_index])\n",
    "        ax[i].errorbar(x, y_1, e_1, linestyle='--', marker='o', label='test')\n",
    "        ax[i].set_xlabel(p.upper())\n",
    "\n",
    "    plt.legend()\n",
    "    plt.show()\n",
    "\n",
    "def show_confusion_matrix(estimator, y_pred):\n",
    "    cm = confusion_matrix(y_test, y_pred, labels=estimator.classes_)\n",
    "    disp = ConfusionMatrixDisplay(confusion_matrix=cm,\n",
    "                              display_labels=estimator.classes_)\n",
    "    disp.plot()\n",
    "    plt.show()\n",
    "\n",
    "def print_scores(y_pred):\n",
    "    print(\"Precision: \", round(precision_score(y_test, y_pred), 2))\n",
    "    print(\"Recall: \", round(recall_score(y_test, y_pred), 2))\n",
    "    print(\"F1-score: \", round(f1_score(y_test, y_pred), 2))\n"
   ]
  },
  {
   "cell_type": "markdown",
   "metadata": {},
   "source": [
    "# Methodology\n",
    "\n",
    "\n",
    "## Dealing with NaN values\n",
    "\n",
    "\n",
    "We'll first train our models by dropping the missiong values in train set, then we'll try different techniques to impute train data. However, missing values can't be simply dropped from test set to evaluate the models.\n",
    "In fact, by doing so, we would artificially increase the our results. Either we replace these dropped lines by false predictions or we train an imputer on train set to fill the missing values. We chose to use imputers.\n",
    "\n"
   ]
  },
  {
   "cell_type": "markdown",
   "metadata": {},
   "source": [
    "# Dummy classifier\n",
    "\n",
    "DummyClassifier is a classifier that makes predictions using simple rules.\n",
    "This classifier is useful as a simple baseline to compare with other (real) classifiers."
   ]
  },
  {
   "cell_type": "code",
   "execution_count": 95,
   "metadata": {},
   "outputs": [
    {
     "name": "stdout",
     "output_type": "stream",
     "text": [
      "Precision:  0.42\n",
      "Recall:  0.51\n",
      "F1-score:  0.46\n",
      "Best parameters:  Pipeline(steps=[('classifier', DummyClassifier(strategy='uniform'))])\n"
     ]
    },
    {
     "data": {
      "image/png": "[encoded data removed]",
      "text/plain": [
       "<Figure size 432x288 with 2 Axes>"
      ]
     },
     "metadata": {
      "needs_background": "light"
     },
     "output_type": "display_data"
    }
   ],
   "source": [
    "DUMMY_PARAMS = {\n",
    "    'classifier__strategy': [\"stratified\", \"most_frequent\", \"prior\", \"uniform\"]\n",
    "}\n",
    "\n",
    "dummay_pipe = Pipeline([\n",
    "    (\"classifier\", DummyClassifier())\n",
    "])\n",
    "\n",
    "dummy_grid = fit_and_test_grid(dummay_pipe, DUMMY_PARAMS, keep_nan=True, verbose=0)"
   ]
  },
  {
   "cell_type": "markdown",
   "metadata": {},
   "source": [
    "We know that a dummy classifier can obtain a **F1-score of 0.48**. It will be used as a reference."
   ]
  },
  {
   "cell_type": "markdown",
   "metadata": {},
   "source": [
    "# Decision tree\n",
    "\n",
    "We'll start with a decision tree. Our intuition tells us that the potability of water should follow some rules (ex: pH in [6.5, 8.5])."
   ]
  },
  {
   "cell_type": "code",
   "execution_count": 96,
   "metadata": {},
   "outputs": [
    {
     "name": "stdout",
     "output_type": "stream",
     "text": [
      "Precision:  0.52\n",
      "Recall:  0.36\n",
      "F1-score:  0.43\n",
      "Best parameters:  Pipeline(steps=[('imputer', SimpleImputer()),\n",
      "                ('classifier',\n",
      "                 DecisionTreeClassifier(max_depth=18, max_features='auto',\n",
      "                                        min_samples_leaf=24,\n",
      "                                        random_state=12))])\n"
     ]
    },
    {
     "data": {
      "image/png": "[encoded data removed]",
      "text/plain": [
       "<Figure size 1440x360 with 3 Axes>"
      ]
     },
     "metadata": {
      "needs_background": "light"
     },
     "output_type": "display_data"
    },
    {
     "data": {
      "image/png": "[encoded data removed]",
      "text/plain": [
       "<Figure size 432x288 with 2 Axes>"
      ]
     },
     "metadata": {
      "needs_background": "light"
     },
     "output_type": "display_data"
    }
   ],
   "source": [
    "TREE_PARAMS = {\n",
    "    'classifier__max_depth': [i for i in range(3, 30, 3)],\n",
    "    'classifier__min_samples_leaf': [i for i in range(3, 30, 3)],\n",
    "    'classifier__max_features': ['auto']\n",
    "}\n",
    "\n",
    "# Decision trees don't need standard scaling\n",
    "tree_pipe = Pipeline([\n",
    "    ('imputer', SimpleImputer()),\n",
    "    (\"classifier\", DecisionTreeClassifier(random_state=12))\n",
    "])\n",
    "\n",
    "tree_grid = fit_and_test_grid(tree_pipe, TREE_PARAMS, keep_nan=True, verbose=0)"
   ]
  },
  {
   "cell_type": "markdown",
   "metadata": {},
   "source": [
    "The problem of this model is that it lacks robustness, i.e. results change a lot with small changes in dataset and has different results performances depending on the random-state fixed."
   ]
  },
  {
   "cell_type": "markdown",
   "metadata": {},
   "source": [
    "# LogisticRegression\n",
    "\n",
    "Logistic regression doesn't seem a good solution to our problem as the data is hardly linearly separable. In fact, the lostistic algroithms didn't converge during tests."
   ]
  },
  {
   "cell_type": "code",
   "execution_count": 99,
   "metadata": {},
   "outputs": [],
   "source": [
    "LOGISTIC_PARAMS = {\n",
    "    'scaler': [None, MinMaxScaler(), StandardScaler()],\n",
    "    'classifier__penalty': ['l2', 'l1', 'elasticnet'],\n",
    "    'classifier__C': [10**(5 - i) for i in range(10)],\n",
    "}\n",
    "\n",
    "\n",
    "# Decision trees don't need standard scaling\n",
    "logistic_pipe = Pipeline([\n",
    "    ('imputer', SimpleImputer()),\n",
    "    ('scaler', StandardScaler()),\n",
    "    (\"classifier\", LogisticRegression())\n",
    "])\n",
    "\n",
    "#logistic_grid = fit_and_test_grid(logistic_pipe, LOGISTIC_PARAMS, keep_nan=True, verbose=0)"
   ]
  },
  {
   "cell_type": "markdown",
   "metadata": {},
   "source": [
    "# KNN\n"
   ]
  },
  {
   "cell_type": "code",
   "execution_count": 26,
   "metadata": {},
   "outputs": [
    {
     "name": "stdout",
     "output_type": "stream",
     "text": [
      "Precision:  0.46\n",
      "Recall:  0.45\n",
      "F1-score:  0.45\n",
      "Best parameters:  Pipeline(steps=[('imputer', SimpleImputer()), ('scaler', StandardScaler()),\n",
      "                ('classifier',\n",
      "                 KNeighborsClassifier(n_neighbors=3, p=1, weights='distance'))])\n"
     ]
    }
   ],
   "source": [
    "KNN_PARAMS = {\n",
    "    'classifier__n_neighbors': np.arange(3, 20, 3),\n",
    "    'classifier__weights': ['uniform', 'distance'],\n",
    "    'classifier__p': [1, 2, 3, 4],\n",
    "}\n",
    "\n",
    "# Only StandardScaler is used\n",
    "knn_pipe = Pipeline([\n",
    "    ('imputer', SimpleImputer()),\n",
    "    ('scaler', StandardScaler()),\n",
    "    (\"classifier\", KNeighborsClassifier())\n",
    "])\n",
    "\n",
    "knn_grid = fit_and_test_grid(knn_pipe, KNN_PARAMS, keep_nan=True, verbose=0)"
   ]
  },
  {
   "cell_type": "markdown",
   "metadata": {},
   "source": [
    "Results are better than before but still disappointing."
   ]
  },
  {
   "cell_type": "markdown",
   "metadata": {},
   "source": [
    "# SVM classifier\n"
   ]
  },
  {
   "cell_type": "code",
   "execution_count": 101,
   "metadata": {},
   "outputs": [
    {
     "name": "stdout",
     "output_type": "stream",
     "text": [
      "Precision:  0.49\n",
      "Recall:  0.54\n",
      "F1-score:  0.52\n",
      "Best parameters:  Pipeline(steps=[('imputer', SimpleImputer()), ('smote', SMOTE()),\n",
      "                ('preprocessing', StandardScaler()),\n",
      "                ('classifier', SVC(C=10, gamma=0.1))])\n"
     ]
    },
    {
     "data": {
      "image/png": "[encoded data removed]",
      "text/plain": [
       "<Figure size 432x288 with 2 Axes>"
      ]
     },
     "metadata": {
      "needs_background": "light"
     },
     "output_type": "display_data"
    }
   ],
   "source": [
    "SVM_PARAMS = {\n",
    "        'classifier__kernel': [\"rbf\"],\n",
    "        'classifier__gamma': [10 ** (5 - i) for i in range(10)],\n",
    "        'classifier__C': [10 ** (4 - i) for i in range(10)]\n",
    "}\n",
    "\n",
    "svm_pipe = Pipeline([\n",
    "    ('imputer', SimpleImputer()),\n",
    "    ('smote', SMOTE()),\n",
    "    (\"preprocessing\", StandardScaler()),\n",
    "    (\"classifier\", SVC(C=10, gamma=0.1))\n",
    "])\n",
    "\n",
    "svm_grid = fit_and_test_grid(svm_pipe, SVM_PARAMS, keep_nan=False, verbose=0) # only train nan are deleted"
   ]
  },
  {
   "cell_type": "markdown",
   "metadata": {},
   "source": [
    "SVC achieves good results when using a rbf kernel (linear and polynomial results were deleted from the code above)."
   ]
  },
  {
   "cell_type": "markdown",
   "metadata": {},
   "source": [
    "# Naive Bayes\n",
    "\n",
    "Since we have indenpendance (very low correlation) between features, neive bayes can be an interesting option. Another advantage of this method is that it requires few training data and is fast."
   ]
  },
  {
   "cell_type": "code",
   "execution_count": 103,
   "metadata": {},
   "outputs": [
    {
     "name": "stdout",
     "output_type": "stream",
     "text": [
      "Precision:  0.48\n",
      "Recall:  0.45\n",
      "F1-score:  0.47\n",
      "Best parameters:  Pipeline(steps=[('imputer', SimpleImputer()), ('smote', SMOTE()),\n",
      "                ('preprocessing', None), ('classifier', GaussianNB())])\n"
     ]
    },
    {
     "data": {
      "image/png": "[encoded data removed]",
      "text/plain": [
       "<Figure size 432x288 with 2 Axes>"
      ]
     },
     "metadata": {
      "needs_background": "light"
     },
     "output_type": "display_data"
    }
   ],
   "source": [
    "BAYES_PARAMS = {\n",
    "    'preprocessing': [None, StandardScaler(), MinMaxScaler()]\n",
    "}\n",
    "\n",
    "bayes_pipe = Pipeline([\n",
    "    ('imputer', SimpleImputer()),\n",
    "    ('smote', SMOTE()),\n",
    "    (\"preprocessing\", StandardScaler()),\n",
    "    (\"classifier\", GaussianNB())\n",
    "])\n",
    "\n",
    "bayes_grid = fit_and_test_grid(bayes_pipe, BAYES_PARAMS, keep_nan=False, verbose=0)"
   ]
  },
  {
   "cell_type": "markdown",
   "metadata": {},
   "source": [
    "# NN\n"
   ]
  },
  {
   "cell_type": "code",
   "execution_count": 104,
   "metadata": {},
   "outputs": [
    {
     "name": "stdout",
     "output_type": "stream",
     "text": [
      "Precision:  0.47\n",
      "Recall:  0.45\n",
      "F1-score:  0.46\n",
      "Best parameters:  Pipeline(steps=[('imputer', SimpleImputer()), ('smote', SMOTE()),\n",
      "                ('preprocessing', None), ('classifier', GaussianNB())])\n"
     ]
    },
    {
     "data": {
      "image/png": "[encoded data removed]",
      "text/plain": [
       "<Figure size 432x288 with 2 Axes>"
      ]
     },
     "metadata": {
      "needs_background": "light"
     },
     "output_type": "display_data"
    }
   ],
   "source": [
    "MLP_PARAMS = {\n",
    "    'preprocessing': [None, StandardScaler(), MinMaxScaler()]\n",
    "}\n",
    "\n",
    "MLP_pipe = Pipeline([\n",
    "    ('imputer', SimpleImputer()),\n",
    "    ('smote', SMOTE()),\n",
    "    (\"preprocessing\", StandardScaler()),\n",
    "    (\"classifier\", GaussianNB())\n",
    "])\n",
    "\n",
    "MLP_grid = fit_and_test_grid(MLP_pipe, MLP_PARAMS, keep_nan=False, verbose=0)"
   ]
  },
  {
   "cell_type": "markdown",
   "metadata": {},
   "source": [
    "# Ensemble techniques\n",
    "\n",
    "We are now trying to combine different individual models to improve model flexibility and data-sensivity. We'll try the two types of methods seen during the course, i.e. Bagging and Boosting.\n",
    "\n",
    "## Bagging\n",
    "\n",
    "We train in parallel a bunch of models on a random subset of data."
   ]
  },
  {
   "cell_type": "code",
   "execution_count": null,
   "metadata": {},
   "outputs": [],
   "source": [
    "FOREST_PARAMS = {\n",
    "    'classifier__max_depth': [i for i in range(3, 30, 3)],\n",
    "    'classifier__min_samples_leaf': [i for i in range(3, 30, 3)],\n",
    "    'classifier__max_features': ['auto'],\n",
    "    'classifier__criterion': ['gini', 'entropy'],\n",
    "    'classifier__class_weight': ['balanced', 'balanced_subsample'],\n",
    "    'classifier__n_estimators': [10, 50, 100, 150]\n",
    "}\n",
    "\n",
    "\n",
    "# Decision trees don't need standard scaling\n",
    "forest_pipe = Pipeline([\n",
    "    ('imputer', SimpleImputer()),\n",
    "    ('scaler', StandardScaler()),\n",
    "    (\"classifier\", RandomForestClassifier())\n",
    "])\n",
    "\n",
    "forest_grid = fit_and_test_grid(forest_pipe, FOREST_PARAMS, keep_nan=True, verbose=0)"
   ]
  },
  {
   "cell_type": "markdown",
   "metadata": {},
   "source": [
    "## Boosting\n",
    "\n",
    "Boosting consists in training a bunch of models in a sequetial way. Each individual model learns from mistakes made by the previous."
   ]
  },
  {
   "cell_type": "markdown",
   "metadata": {},
   "source": [
    "## Bagging + Boosting\n",
    "\n",
    "Here we tried to mix both approaches. "
   ]
  },
  {
   "cell_type": "code",
   "execution_count": 94,
   "metadata": {},
   "outputs": [
    {
     "name": "stdout",
     "output_type": "stream",
     "text": [
      "Precision:  0.71\n",
      "Recall:  0.08\n",
      "F1-score:  0.14\n",
      "Best parameters:  Pipeline(steps=[('imputer', SimpleImputer()), ('scale', StandardScaler()),\n",
      "                ('AB',\n",
      "                 AdaBoostClassifier(base_estimator=RandomForestClassifier(max_depth=5,\n",
      "                                                                          min_samples_leaf=10,\n",
      "                                                                          random_state=42),\n",
      "                                    learning_rate=0.01, n_estimators=5,\n",
      "                                    random_state=42))])\n"
     ]
    },
    {
     "data": {
      "image/png": "[encoded data removed]",
      "text/plain": [
       "<Figure size 432x288 with 2 Axes>"
      ]
     },
     "metadata": {
      "needs_background": "light"
     },
     "output_type": "display_data"
    },
    {
     "data": {
      "text/plain": [
       "GridSearchCV(cv=5,\n",
       "             estimator=Pipeline(steps=[('imputer', SimpleImputer()),\n",
       "                                       ('scale', StandardScaler()),\n",
       "                                       ('AB',\n",
       "                                        AdaBoostClassifier(base_estimator=RandomForestClassifier(max_depth=5,\n",
       "                                                                                                 min_samples_leaf=10,\n",
       "                                                                                                 random_state=42),\n",
       "                                                           learning_rate=0.01,\n",
       "                                                           n_estimators=5,\n",
       "                                                           random_state=42))]),\n",
       "             param_grid={}, scoring=make_scorer(f1_score))"
      ]
     },
     "execution_count": 94,
     "metadata": {},
     "output_type": "execute_result"
    }
   ],
   "source": [
    "RFBE = RandomForestClassifier(random_state=42,bootstrap=True,criterion='gini',max_depth=5,min_samples_leaf=10)\n",
    "AdaBoost_Pipeline = Pipeline([\n",
    "    ('imputer', SimpleImputer()),\n",
    "    ('scale',StandardScaler()),\n",
    "    ('classifier', AdaBoostClassifier(random_state = 42,\n",
    "        base_estimator = RFBE,\n",
    "        learning_rate=0.01,\n",
    "        n_estimators=5))])\n",
    "\n",
    "fit_and_test_grid(AdaBoost_Pipeline, {})"
   ]
  },
  {
   "cell_type": "markdown",
   "metadata": {},
   "source": [
    "## LGBMC classifier\n",
    "\n",
    "LightGBM is a gradient boosting framework that uses tree based learning algorithms."
   ]
  },
  {
   "cell_type": "code",
   "execution_count": 91,
   "metadata": {},
   "outputs": [
    {
     "name": "stdout",
     "output_type": "stream",
     "text": [
      "Precision:  0.52\n",
      "Recall:  0.54\n",
      "F1-score:  0.53\n",
      "Best parameters:  Pipeline(steps=[('imputer', SimpleImputer()), ('smote', SMOTE(random_state=42)),\n",
      "                ('scale', StandardScaler()),\n",
      "                ('classifier', LGBMClassifier(n_estimators=98))])\n"
     ]
    },
    {
     "data": {
      "image/png": "[encoded data removed]",
      "text/plain": [
       "<Figure size 1440x360 with 2 Axes>"
      ]
     },
     "metadata": {
      "needs_background": "light"
     },
     "output_type": "display_data"
    },
    {
     "data": {
      "image/png": "[encoded data removed]",
      "text/plain": [
       "<Figure size 432x288 with 2 Axes>"
      ]
     },
     "metadata": {
      "needs_background": "light"
     },
     "output_type": "display_data"
    }
   ],
   "source": [
    "\n",
    "lgbmc_pipe = Pipeline([\n",
    "    ('imputer', SimpleImputer()),\n",
    "    ('smote', SMOTE(random_state=42)),\n",
    "    ('scale', StandardScaler()),\n",
    "    ('classifier', LGBMClassifier())\n",
    "])\n",
    "\n",
    "params = {\n",
    "    'classifier__n_estimators': np.arange(90, 110),\n",
    "    'classifier__num_leaves': np.arange(25, 35)\n",
    "}\n",
    "\n",
    "lgmbc_grid = fit_and_test_grid(\n",
    "    lgbmc_pipe, \n",
    "    params,\n",
    "    keep_nan=True,\n",
    "    verbose=0,\n",
    "    smote=False\n",
    ")"
   ]
  }
 ],
 "metadata": {
  "interpreter": {
   "hash": "edd6b805bf7f24d7c92ad8765da6d6cb2572e23974c563ecc7790242a040adc4"
  },
  "kernelspec": {
   "display_name": "Python 3.7.10 64-bit ('mlProject': conda)",
   "name": "python3"
  },
  "language_info": {
   "codemirror_mode": {
    "name": "ipython",
    "version": 3
   },
   "file_extension": ".py",
   "mimetype": "text/x-python",
   "name": "python",
   "nbconvert_exporter": "python",
   "pygments_lexer": "ipython3",
   "version": "3.7.10"
  },
  "orig_nbformat": 4
 },
 "nbformat": 4,
 "nbformat_minor": 2
}
